{
 "cells": [
  {
   "cell_type": "markdown",
   "metadata": {},
   "source": [
    "# Spam Classifier\n",
    "## Assignment Preamble\n",
    "Please ensure you carefully read all of the details and instructions on the assignment page, this section, and the rest of the notebook. If anything is unclear at any time please post on the forum or ask a tutor well in advance of the assignment deadline.\n",
    "\n",
    "In addition to all of the instructions in the body of the assignment below, you must also follow the following technical instructions for all assignments in this unit. *Failure to do so may result in a grade of zero.*\n",
    "* [At the bottom of the page](#Submission-Test) is some code which checks you meet the submission requirements. You **must** ensure that this runs correctly before submission.\n",
    "* Do not modify or delete any of the cells that are marked as test cells, even if they appear to be empty.\n",
    "* Do not duplicate any cells in the notebook – this can break the marking script. Instead, insert a new cell (e.g. from the menu) and copy across any contents as necessary.\n",
    "* Do not use global variables or rely on global state at all. It may lose you marks in the marking script.\n",
    "\n",
    "Remember to save and backup your work regularly, and double-check you are submitting the correct version.\n",
    "\n",
    "This notebook is the primary reference for your submission. You may write code in separate `.py` files but it must be clearly imported into the notebook so that it runs without needing to reference those files, and you must explain clearly what functionality is contained in those files (through comments, markdown cells, etc).\n",
    "\n",
    "As always, **the work you submit for this assignment must be entirely your own.** Do not copy or work with other students. Do not copy answers that you find online. These assignments are designed to help improve your understanding first and foremost – the process of doing the assignment is part of *learning*. They are also used to assess your ability, and so you must uphold academic integrity. Submitting plagiarised work risks your entire place on your degree.\n",
    "\n",
    "**The pass mark for this assignment is 40%.** We expect that students, on average, will be able to produce a submission which gets a mark between 50-70% within the normal workload allocation for the unit, but this will vary depending on individual backgrounds. Please ask for help if you are struggling.\n",
    "\n",
    "## Getting Started\n",
    "Spam refers to unwanted email, often in the form of advertisements. In the literature, an email that is **not** spam is called *ham*. Most email providers offer automatic spam filtering, where spam emails will be moved to a separate inbox based on their contents. Of course this requires being able to scan an email and determine whether it is spam or ham, a classification problem. This is the subject of this assignment.\n",
    "\n",
    "This assignment has one part, worth 100% of the grade for this coursework.\n",
    "\n",
    "You will write a supervised learning based classifier to determine whether a given email is spam or ham. You must write and submit the code in this notebook. The training data is provided for you. You may use any classification method. Marks will be awarded primarily based on the accuracy of your classifier on unseen test data, but there are also marks for estimating how accurate you think your classifier will be.\n",
    "\n",
    "### Choice of Algorithm\n",
    "While the classification method is a completely free choice, the assignment folder includes [a separate notebook file](data/naivebayes.ipynb) which can help you implement a Naïve Bayes solution. If you do use this notebook, you are still responsible for porting your code into *this* notebook for submission. A good implementation should give a high  enough accuracy to get a good grade on this section (50-70%).\n",
    "\n",
    "You could also consider a k-nearest neighbour algorithm, but this may be less accurate. Logistic regression is another option that you may wish to consider.\n",
    "\n",
    "If you are looking to go beyond the scope of the unit, you might be interested in building something more advanced, like an artificial neural network. This is possible just using `numpy`, but will require significant self-directed learning. *Extensions like this are left unguided and are not factored into the unit workload estimates.*\n",
    "\n",
    "**Note:** you may use helper functions in libraries like `numpy` or `scipy`, but you **must not** import code which builds entire models for you. This includes but is not limited to use of libraries like `scikit-learn`, `tensorflow`, or `pytorch` – there will be plenty of opportunities for these libraries in later units. The point of this assignment is to understand code the actual algorithm yourself. ***If you are in any doubt about any particular library or function please ask a tutor.*** Submissions which ignore this will receive penalties or even zero marks.\n",
    "\n",
    "## Training Data\n",
    "The training data is described below and has 1000 rows. There is also a 500 row set of test data. These are functionally identical to the training data, they are just in a separate csv file to encourage you to split out your training and test data. You should consider how to best make use of all available data without overfitting, and to help produce an unbiased estimate for your classifier's accuracy.\n",
    "\n",
    "The cell below loads the training data into a variable called `training_spam`."
   ]
  },
  {
   "cell_type": "code",
   "execution_count": 1,
   "metadata": {},
   "outputs": [
    {
     "name": "stdout",
     "output_type": "stream",
     "text": [
      "Shape of the spam training data set: (1000, 55)\n",
      "[[1 0 0 ... 0 0 0]\n",
      " [0 0 1 ... 1 0 0]\n",
      " [0 0 0 ... 1 0 0]\n",
      " ...\n",
      " [0 0 0 ... 0 0 1]\n",
      " [1 1 1 ... 1 1 0]\n",
      " [1 0 0 ... 1 1 1]]\n"
     ]
    },
    {
     "name": "stderr",
     "output_type": "stream",
     "text": [
      "<ipython-input-1-9b07313e2dc5>:3: DeprecationWarning: `np.int` is a deprecated alias for the builtin `int`. To silence this warning, use `int` by itself. Doing this will not modify any behavior and is safe. When replacing `np.int`, you may wish to use e.g. `np.int64` or `np.int32` to specify the precision. If you wish to review your current use, check the release note link for additional information.\n",
      "Deprecated in NumPy 1.20; for more details and guidance: https://numpy.org/devdocs/release/1.20.0-notes.html#deprecations\n",
      "  training_spam = np.loadtxt(open(\"data/training_spam.csv\"), delimiter=\",\").astype(np.int)\n"
     ]
    }
   ],
   "source": [
    "import numpy as np\n",
    "\n",
    "training_spam = np.loadtxt(open(\"data/training_spam.csv\"), delimiter=\",\").astype(np.int)\n",
    "print(\"Shape of the spam training data set:\", training_spam.shape)\n",
    "print(training_spam)"
   ]
  },
  {
   "cell_type": "markdown",
   "metadata": {},
   "source": [
    "Your training set consists of 1000 rows and 55 columns. Each row corresponds to one email message. The first column is the _response_ variable and describes whether a message is spam `1` or ham `0`. The remaining 54 columns are _features_ that you will use to build a classifier. These features correspond to 54 different keywords (such as \"money\", \"free\", and \"receive\") and special characters (such as \":\", \"!\", and \"$\"). A feature has the value `1` if the keyword appears in the message and `0` otherwise.\n",
    "\n",
    "As mentioned there is also a 500 row set of *test data*. It contains the same 55 columns."
   ]
  },
  {
   "cell_type": "code",
   "execution_count": 2,
   "metadata": {},
   "outputs": [
    {
     "name": "stdout",
     "output_type": "stream",
     "text": [
      "Shape of the spam testing data set: (500, 55)\n",
      "[[1 0 0 ... 1 1 1]\n",
      " [1 1 0 ... 1 1 1]\n",
      " [0 0 0 ... 0 0 0]\n",
      " ...\n",
      " [0 0 0 ... 0 0 0]\n",
      " [0 0 0 ... 1 0 0]\n",
      " [0 0 0 ... 1 0 0]]\n"
     ]
    },
    {
     "name": "stderr",
     "output_type": "stream",
     "text": [
      "<ipython-input-2-7b09f440222b>:1: DeprecationWarning: `np.int` is a deprecated alias for the builtin `int`. To silence this warning, use `int` by itself. Doing this will not modify any behavior and is safe. When replacing `np.int`, you may wish to use e.g. `np.int64` or `np.int32` to specify the precision. If you wish to review your current use, check the release note link for additional information.\n",
      "Deprecated in NumPy 1.20; for more details and guidance: https://numpy.org/devdocs/release/1.20.0-notes.html#deprecations\n",
      "  testing_spam = np.loadtxt(open(\"data/testing_spam.csv\"), delimiter=\",\").astype(np.int)\n"
     ]
    }
   ],
   "source": [
    "testing_spam = np.loadtxt(open(\"data/testing_spam.csv\"), delimiter=\",\").astype(np.int)\n",
    "print(\"Shape of the spam testing data set:\", testing_spam.shape)\n",
    "print(testing_spam)"
   ]
  },
  {
   "cell_type": "markdown",
   "metadata": {},
   "source": [
    "## Part One\n",
    "Write all of the code for your classifier below this cell. There is some very rough skeleton code in the cell directly below. You may insert more cells below this if you wish, but you must not duplicate any cells as this can break the grading script.\n",
    "\n",
    "### Submission Requirements\n",
    "Your code must provide a variable with the name `classifier`. This object must have a method called `predict` which takes input data and returns class predictions. The input will be a single $n \\times 54$ numpy array, your classifier should return a numpy array of length $n$ with classifications. There is a demo in the cell below, and a test you can run before submitting to check your code is working correctly.\n",
    "\n",
    "Your code must run on our test machine in under 30 seconds. If you wish to train a more complicated model (e.g. neural network) which will take longer, you are welcome to save the model's weights as a file and then load these in the cell below so we can test it. You must include the code which computes the original weights, but this must not run when we run the notebook – comment out the code which actually executes the routine and make sure it is clear what we need to change to get it to run. Remember that we will be testing your final classifier on additional hidden data."
   ]
  },
  {
   "cell_type": "code",
   "execution_count": 3,
   "metadata": {},
   "outputs": [],
   "source": [
    "# This skeleton code simply classifies every input as ham\n",
    "#\n",
    "# Here you can see there is a parameter k that is unused, the\n",
    "# point is to show you how you could set up your own. You might\n",
    "# also pass in extra data via a train method (also does nothing\n",
    "# here). Modify this code as much as you like so long as the \n",
    "# accuracy test in the cell below runs.\n",
    "\n",
    "class SpamClassifier:\n",
    "    def __init__(self, k):\n",
    "        self.k = k\n",
    "        self.y = 0\n",
    "        \n",
    "    def train(self):\n",
    "        self.k = self.estimate_log_class_priors(training_spam)\n",
    "        self.y = self.estimate_log_class_conditional_likelihoods(training_spam)\n",
    "        pass\n",
    "    \n",
    "    #Returns the logged values of class priors given the a provided labelled dataset.\n",
    "    def estimate_log_class_priors(self,data):\n",
    "        zero = 0\n",
    "        one = 0\n",
    "        \n",
    "        for counter in range(0,data.shape[0],1):\n",
    "            temp = data[counter][0]\n",
    "            if temp == 1:\n",
    "                one+=1\n",
    "            elif temp == 0:\n",
    "                zero+=1\n",
    "        #Turning these values into proportions\n",
    "        zero = zero/data.shape[0]\n",
    "        one = one/data.shape[0]\n",
    "\n",
    "        #Calculating the logarithm of the proportion of 0s and 1s.\n",
    "        #log(p(C=0))\n",
    "        ECP0 = np.log(zero)\n",
    "\n",
    "        #log(p(C=1))\n",
    "        ECP1 = np.log(one)\n",
    "\n",
    "        #Appending to numpy array\n",
    "        log_class_priors = np.array([ECP0, ECP1])\n",
    "\n",
    "        return log_class_priors\n",
    "    \n",
    "    #Returns the logged likelihoods of particular words being spam or ham\n",
    "    def estimate_log_class_conditional_likelihoods(self,data, alpha=1.0):\n",
    "    \n",
    "        a = np.array([])\n",
    "        b = np.array([])\n",
    "        aa = np.array([])\n",
    "        bb = np.array([])\n",
    "\n",
    "        ##if zero, then when class is zero - check for 1s and append to relevant array\n",
    "        ## if one, the when class is one - check for 1s and append to relevant array\n",
    "\n",
    "        #Creating a nunmpy array to be returned\n",
    "        for x in range(1,data.shape[1],1):\n",
    "            oneA = 0\n",
    "            oneB = 0\n",
    "            oneBTotal = 0\n",
    "            oneATotal = 0\n",
    "            k = data.shape[1]\n",
    "            for y in range(0,data.shape[0],1):\n",
    "                for count in range(0,2,1):\n",
    "                    temp = data[y][x]\n",
    "                    if data[y][0] == 1:\n",
    "                        if temp == 1:\n",
    "                            oneA+=1 \n",
    "                    if data[y][0] == 0:\n",
    "                        if temp == 1:\n",
    "                            oneB+=1\n",
    "\n",
    "            a = np.append(a,oneA)\n",
    "            b = np.append(b,oneB)\n",
    "\n",
    "            oneATotal += oneA\n",
    "            oneBTotal += oneB\n",
    "        \n",
    "        #Applying laplace smoothn if alpha > 0\n",
    "        if alpha > 0:\n",
    "            for n in range(0,a.size,1):\n",
    "                numeratorA = a[n] + 1\n",
    "                denominatorA = oneATotal + k\n",
    "                result = numeratorA / denominatorA\n",
    "                aa = np.append(aa,np.log(result))\n",
    "\n",
    "            for m in range(0,b.size,1):\n",
    "                numeratorB = b[m] +1\n",
    "                denominatorB = oneBTotal + k\n",
    "                result = numeratorB / denominatorB\n",
    "                bb = np.append(bb,np.log(result))\n",
    "        else:\n",
    "            for n in range(0,a.size,1):\n",
    "                numeratorA = a[n]\n",
    "                denominatorA = oneATotal\n",
    "                if numeratorA != 0:\n",
    "                    if denominatorA !=0:\n",
    "                        result = numeratorA / denominatorA\n",
    "                        aa = np.append(aa,np.log(result))\n",
    "                    else:\n",
    "                        aa = np.append(aa,0)  \n",
    "                else:\n",
    "                    aa = np.append(aa,0) \n",
    "\n",
    "            for m in range(0,b.size,1):\n",
    "                numeratorB = b[m]\n",
    "                denominatorB = oneBTotal\n",
    "                if numeratorB != 0:\n",
    "                    if denominatorB !=0:\n",
    "                        result = numeratorB / denominatorB\n",
    "                        bb = np.append(bb,np.log(result))\n",
    "                    else:\n",
    "                        bb = np.append(bb,0)  \n",
    "                else:\n",
    "                    bb = np.append(bb,0) \n",
    "\n",
    "\n",
    "\n",
    "        theta = np.array([aa,bb])\n",
    "        return theta\n",
    "\n",
    "    #Given binary data set and having trained on other data, predict whether the data is ham or spam    \n",
    "    def predict(self, new_data):\n",
    "            #def predict(new_data, log_class_priors, log_class_conditional_likelihoods):\n",
    "        log_class_priors = self.k\n",
    "        log_class_conditional_likelihoods = self.y\n",
    "        class_predictions = np.array([])\n",
    "        \n",
    "        #Determine likelihood of given data being spam or ham\n",
    "        for y in range(0,new_data.shape[0],1):\n",
    "            equaliser = 0\n",
    "            for x in range(0,new_data.shape[1],1):\n",
    "                #If value in row is one\n",
    "                temp = new_data[y][x]\n",
    "                if temp == 1:\n",
    "                    spam = log_class_conditional_likelihoods[0][x]+log_class_priors[0]\n",
    "                    ham = log_class_conditional_likelihoods[1][x]+log_class_priors[1]\n",
    "                    if spam > ham:\n",
    "                        equaliser +=1\n",
    "                    else:\n",
    "                        equaliser -=1.2\n",
    "                ##This\n",
    "                else:\n",
    "                    equaliser-=0.01\n",
    "            if equaliser > 1:\n",
    "                class_predictions = np.append(class_predictions,1)\n",
    "            else:\n",
    "                class_predictions = np.append(class_predictions,0)\n",
    "\n",
    "        #returns predictions\n",
    "        return class_predictions\n",
    "\n",
    "    \n",
    "\n",
    "def create_classifier():\n",
    "    classifier = SpamClassifier(k=1)\n",
    "    classifier.train()\n",
    "    #classifier.predict()\n",
    "    return classifier\n",
    "\n",
    "classifier = create_classifier()"
   ]
  },
  {
   "cell_type": "markdown",
   "metadata": {},
   "source": [
    "### Accuracy Estimate\n",
    "In the cell below there is a function called `my_accuracy_estimate()` which returns `0.5`. Before you submit the assignment, write your best guess for the accuracy of your classifier into this function, as a percentage between `0.5` and `1`. So if you think you will get 80% of inputs correct, return the value `0.8`. This will form a small part of the marking criteria for the assignment, to encourage you to test your own code without bias – give the *most accurate* estimate you can.\n",
    "\n",
    "*Note* that there is no sense giving a value lower than `0.5` – if you are getting a score in this region, you can flip all of your predictions to get a better score!"
   ]
  },
  {
   "cell_type": "code",
   "execution_count": 4,
   "metadata": {},
   "outputs": [],
   "source": [
    "def my_accuracy_estimate():\n",
    "    return 0.878"
   ]
  },
  {
   "cell_type": "markdown",
   "metadata": {},
   "source": [
    "Write all of the code for your classifier above this cell.\n",
    "\n",
    "### Testing Details\n",
    "Your classifier will be tested against some hidden data from the same source as the original. The accuracy (percentage of classifications correct) will be calculated, then benchmarked against common methods. At the very high end of the grading scale, your accuracy will also be compared to the best submissions from other students (in your own cohort and others!). Your estimate from the cell above will also factor in, and you will be rewarded for being close to your actual accuracy (overestimates and underestimates will be treated the same).\n",
    "\n",
    "#### Test Cell\n",
    "The following code will run your classifier against the provided test data. To enable it, set the constant `SKIP_TESTS` to `False`.\n",
    "\n",
    "The original skeleton code above classifies every row as ham, but once you have written your own classifier you can run this cell again to test it. So long as your code sets up a variable called `classifier` with a method called `predict`, the test code will be able to run. \n",
    "\n",
    "Of course you may wish to test your classifier in additional ways, but you *must* ensure this version still runs before submitting.\n",
    "\n",
    "**IMPORTANT**: you must set `SKIP_TESTS` back to `True` before submitting this file!"
   ]
  },
  {
   "cell_type": "code",
   "execution_count": 7,
   "metadata": {},
   "outputs": [
    {
     "name": "stdout",
     "output_type": "stream",
     "text": [
      "Accuracy on test data is: 0.886\n"
     ]
    },
    {
     "name": "stderr",
     "output_type": "stream",
     "text": [
      "<ipython-input-7-4ff6bf51d460>:4: DeprecationWarning: `np.int` is a deprecated alias for the builtin `int`. To silence this warning, use `int` by itself. Doing this will not modify any behavior and is safe. When replacing `np.int`, you may wish to use e.g. `np.int64` or `np.int32` to specify the precision. If you wish to review your current use, check the release note link for additional information.\n",
      "Deprecated in NumPy 1.20; for more details and guidance: https://numpy.org/devdocs/release/1.20.0-notes.html#deprecations\n",
      "  testing_spam = np.loadtxt(open(\"data/testing_spam.csv\"), delimiter=\",\").astype(np.int)\n"
     ]
    }
   ],
   "source": [
    "SKIP_TESTS = False\n",
    "\n",
    "def tests():\n",
    "    testing_spam = np.loadtxt(open(\"data/testing_spam.csv\"), delimiter=\",\").astype(np.int)\n",
    "    test_data = testing_spam[:, 1:]\n",
    "    test_labels = testing_spam[:, 0]\n",
    "\n",
    "    predictions = classifier.predict(test_data)\n",
    "    accuracy = np.count_nonzero(predictions == test_labels)/test_labels.shape[0]\n",
    "    print(f\"Accuracy on test data is: {accuracy}\")\n",
    "    \n",
    "if not SKIP_TESTS:\n",
    "    tests()"
   ]
  },
  {
   "cell_type": "markdown",
   "metadata": {},
   "source": [
    "## Submission Test\n",
    "The following cell tests if your notebook is ready for submission. **You must not skip this step!**\n",
    "\n",
    "Restart the kernel and run the entire notebook (Kernel → Restart & Run All). Now look at the output of the cell below. \n",
    "\n",
    "*If there is no output, then your submission is not ready.* Either your code is still running (did you forget to skip tests?) or it caused an error.\n",
    "\n",
    "As previously mentioned, failing to follow these instructions can result in a grade of zero."
   ]
  },
  {
   "cell_type": "code",
   "execution_count": 6,
   "metadata": {
    "deletable": false,
    "editable": false,
    "nbgrader": {
     "cell_type": "code",
     "checksum": "129d240a6dfff29b30ef32256851036c",
     "grade": false,
     "grade_id": "cell-ce83a675162843d3",
     "locked": true,
     "schema_version": 3,
     "solution": false,
     "task": false
    }
   },
   "outputs": [
    {
     "name": "stdout",
     "output_type": "stream",
     "text": [
      "You must set the SKIP_TESTS constant to True in the cell above.\n",
      "\n"
     ]
    },
    {
     "name": "stderr",
     "output_type": "stream",
     "text": [
      "Your submission is not ready! Please read and follow the instructions above."
     ]
    }
   ],
   "source": [
    "def submission_tests():\n",
    "    import sys\n",
    "    import pathlib\n",
    "\n",
    "    fail = False;\n",
    "\n",
    "    if not SKIP_TESTS:\n",
    "        fail = True;\n",
    "        print(\"You must set the SKIP_TESTS constant to True in the cell above.\")\n",
    "\n",
    "    p3 = pathlib.Path('./spamclassifier.ipynb')\n",
    "    if not p3.is_file():\n",
    "        fail = True\n",
    "        print(\"This notebook file must be named spamclassifier.ipynb\")\n",
    "\n",
    "    if \"create_classifier\" not in globals():\n",
    "        fail = True;\n",
    "        print(\"You must include a function called create_classifier.\")\n",
    "\n",
    "    if \"my_accuracy_estimate\" not in globals():\n",
    "        fail = True;\n",
    "        print(\"You must include a function called my_accuracy_estimate which returns a hard-coded value between 0.5 and 1.\")\n",
    "    else:\n",
    "        if my_accuracy_estimate() == 0.5:\n",
    "            print(\"Warning:\")\n",
    "            print(\"You do not seem to have provided an accuracy estimate, it is set to 0.5.\")\n",
    "            print(\"This is the actually the worst possible accuracy – if your classifier\")\n",
    "            print(\"got 0.1 then it could invert its results to get 0.9!\")\n",
    "    print()\n",
    "\n",
    "    if fail:\n",
    "        sys.stderr.write(\"Your submission is not ready! Please read and follow the instructions above.\")\n",
    "    else:\n",
    "        print(\"All checks passed. When you are ready to submit, upload the notebook to the\")\n",
    "        print(\"assignment page, without changing any filenames.\")\n",
    "        print()\n",
    "        print(\"If you need to submit multiple files, you can archive them in a .zip file. (No other format.)\")\n",
    "        \n",
    "submission_tests()"
   ]
  },
  {
   "cell_type": "code",
   "execution_count": 7,
   "metadata": {
    "deletable": false,
    "editable": false,
    "nbgrader": {
     "cell_type": "code",
     "checksum": "badbc892f539e03ad0acdb369f7e0993",
     "grade": true,
     "grade_id": "cell-b64bc40ab6485b50",
     "locked": true,
     "points": 100,
     "schema_version": 3,
     "solution": false,
     "task": false
    }
   },
   "outputs": [],
   "source": [
    "# This is a test cell. Please do not modify or delete."
   ]
  },
  {
   "cell_type": "code",
   "execution_count": null,
   "metadata": {},
   "outputs": [],
   "source": []
  }
 ],
 "metadata": {
  "kernelspec": {
   "display_name": "Python 3",
   "language": "python",
   "name": "python3"
  },
  "language_info": {
   "codemirror_mode": {
    "name": "ipython",
    "version": 3
   },
   "file_extension": ".py",
   "mimetype": "text/x-python",
   "name": "python",
   "nbconvert_exporter": "python",
   "pygments_lexer": "ipython3",
   "version": "3.8.8"
  }
 },
 "nbformat": 4,
 "nbformat_minor": 4
}
